{
 "cells": [
  {
   "cell_type": "markdown",
   "id": "f9f1613c-3c75-4a17-9dd2-8abf5d7cbf8f",
   "metadata": {},
   "source": [
    "Qus1.What is a database? Differentiate between SQL and NoSQL database."
   ]
  },
  {
   "cell_type": "markdown",
   "id": "f4c17129-694b-452c-a712-0129e99a50a0",
   "metadata": {},
   "source": [
    "solution1:\n",
    "The database is a collection of inter-related data which is used to retrieve, insert and delete the data efficiently. It is also used to organize the data in the form of a table, schema, views, and reports, etc.\n",
    "Using the database, you can easily retrieve, insert, and delete the information.\n",
    "\n",
    "SQL:\n",
    "* RELATIONAL DATABASE MANAGEMENT SYSTEM (RDBMS)\n",
    "* These databases have fixed or static or predefined schema\t\n",
    "* These databases are not suited for hierarchical data storage.\t\n",
    "* These databases are best suited for complex queries\n",
    "* Vertically Scalable\t\n",
    "* Follows ACID property\t\n",
    "* Examples: MySQL, PostgreSQL, Oracle, MS-SQL Server, etc\t\n",
    "\n",
    "NoSQL:\n",
    "\n",
    "* Non-relational or distributed database system.\n",
    "* They have dynamic schema\n",
    "* These databases are best suited for hierarchical data storage.\n",
    "* These databases are not so good for complex queries\n",
    "* Horizontally scalable\n",
    "* Follows CAP(consistency, availability, partition tolerance)\n",
    "* Examples: MongoDB, GraphQL, HBase, Neo4j, Cassandra, etc"
   ]
  },
  {
   "cell_type": "markdown",
   "id": "46765e23-af29-41c4-89eb-4ebc0129f18d",
   "metadata": {},
   "source": [
    "Qus2. What is DDL? Explain why CREATE, DROP, ALTER, and TRUNCATE are used with an example."
   ]
  },
  {
   "cell_type": "markdown",
   "id": "fdcabeb2-3d8f-4708-941d-25280f03c274",
   "metadata": {},
   "source": [
    "solution2:\n",
    "Data Definition Language actually consists of the SQL commands that can be used to define the database schema. It simply deals with descriptions of the database schema and is used to create and modify the structure of database objects in the database. DDL is a set of SQL commands used to create, modify, and delete database structures but not data. These commands are normally not used by a general user, who should be accessing the database via an application.\n"
   ]
  },
  {
   "cell_type": "markdown",
   "id": "cf5d52ff-71b1-4ab8-b625-aa7a9e0a0883",
   "metadata": {},
   "source": [
    "1. CREATE:the CREATE command is used to create a new database object, such as a table or an index."
   ]
  },
  {
   "cell_type": "code",
   "execution_count": null,
   "id": "e5f883bb-899f-45ce-ab96-86c5b500642f",
   "metadata": {},
   "outputs": [],
   "source": [
    "CREATE TABLE Customers (\n",
    "  CustomerID int NOT NULL,\n",
    "  FirstName varchar(50),\n",
    "  LastName varchar(50),\n",
    "  Email varchar(50),\n",
    "  PRIMARY KEY (CustomerID)\n",
    ");"
   ]
  },
  {
   "cell_type": "markdown",
   "id": "c03b07a2-7ffb-4b17-ac91-7509e58275a6",
   "metadata": {},
   "source": [
    "DROP:the DROP command is used to delete an existing database object, such as a table or an index."
   ]
  },
  {
   "cell_type": "code",
   "execution_count": null,
   "id": "448adb57-4dd7-4a96-a1d4-b86fe26f1e4a",
   "metadata": {},
   "outputs": [],
   "source": [
    "DROP TABLE Customers;"
   ]
  },
  {
   "cell_type": "markdown",
   "id": "1640fa19-016b-4bf2-85d7-a9dc7aec6175",
   "metadata": {},
   "source": [
    "ALTER:the ALTER command is used to modify an existing database object, such as a table or a column. "
   ]
  },
  {
   "cell_type": "code",
   "execution_count": null,
   "id": "16c9578b-607a-4cad-a49d-ae22bbdb68e5",
   "metadata": {},
   "outputs": [],
   "source": [
    "ALTER TABLE Customers\n",
    "ADD Phone varchar(20);"
   ]
  },
  {
   "cell_type": "markdown",
   "id": "be905102-e36f-4c8c-be6a-32b6d0ebba5a",
   "metadata": {},
   "source": [
    "TRUNCATE:the TRUNCATE command is used to delete all the data from an existing table,but not table itself."
   ]
  },
  {
   "cell_type": "code",
   "execution_count": null,
   "id": "c834a445-ced1-4103-a77b-afc16642a818",
   "metadata": {},
   "outputs": [],
   "source": [
    "TRUNCATE TABLE Customers;"
   ]
  },
  {
   "cell_type": "markdown",
   "id": "b74807e8-34fd-48b5-b4ed-c47c73b4b610",
   "metadata": {},
   "source": [
    "Qus3. What is DML? Explain INSERT, UPDATE, and DELETE with an example."
   ]
  },
  {
   "cell_type": "markdown",
   "id": "25783c6a-f09a-4dff-afbe-aedf84f79141",
   "metadata": {},
   "source": [
    "SOLUTION3:\n",
    "\n",
    "DML stands for Data Manipulation Language,which is a subset of SQL(Structured Query Language) used to manipulate data in relational databases.\n"
   ]
  },
  {
   "cell_type": "raw",
   "id": "4eb8212c-8f32-48ce-a4b1-b6ebf03ed3b5",
   "metadata": {},
   "source": [
    "INSERT:the INSERT statement is used to add new rows of data to a table.\n",
    "Example:\n",
    "INSERT INTO customers(id,name,email,phone)\n",
    "VALUES (101,'zaid','zaid@yahoo.com','948483893');"
   ]
  },
  {
   "cell_type": "raw",
   "id": "f4424aa8-8d87-476c-a164-4ea8f6e06411",
   "metadata": {},
   "source": [
    "UPDATE: the UPDATE statement is used to modify existing data in a table\n",
    "Example:\n",
    "UPDATE customers\n",
    "SET phone=\"93748347743\"\n",
    "WHERE ID=101;"
   ]
  },
  {
   "cell_type": "raw",
   "id": "56bb004f-5270-4130-b9f8-1aec165db9e7",
   "metadata": {},
   "source": [
    "DELETE:the DELETE statement is used to remove rows of data from a table.\n",
    "Example:\n",
    "DELETE FROM customers\n",
    "WHERE id=101;\n"
   ]
  },
  {
   "cell_type": "markdown",
   "id": "6bff5f0f-a975-43e8-b5aa-7954f09c5e6b",
   "metadata": {},
   "source": [
    "Qus4.What is DQL? Explain SELECT with an example."
   ]
  },
  {
   "cell_type": "raw",
   "id": "49e1f9ef-fee4-4ca7-8e6d-e7f20eb9d849",
   "metadata": {},
   "source": [
    "Solution4:\n",
    "DQL stands for Data Query Language,ehich is a subset of SQL(Structured Query Language) that is is used to retrieve and manipulate data from a database.\n",
    "\n",
    "SELECT is a DQL command used to retrieve data from one or more tables in a database.\n",
    "\n",
    "Syntax:\n",
    "SELECT column1,column2, .. FROM table_name;\n",
    "\n",
    "Example:\n",
    "1. SELECT id,name,department FROM employees;\n",
    "2. SELECT * FROM employees;"
   ]
  },
  {
   "cell_type": "markdown",
   "id": "d94bbaf4-a809-4ae0-9676-3bf66f4415e1",
   "metadata": {},
   "source": [
    "Qus5.Explain Primary Key and Foreign Key.\n"
   ]
  },
  {
   "cell_type": "markdown",
   "id": "350f44bd-afc3-4714-9150-cafd57c168bb",
   "metadata": {},
   "source": [
    "Solution 5:\n",
    "Primary Key:\n",
    "a primary key is acolumn or set of columns in database table that uniquely identifies each row in that table. it must be a unique value, meaning no two rows can have the same value for the primary key. The primary key is used to enforce data integrity, ensuring that each row in the table can be uniquely identified and accessed. It is also used as a reference point for other tables that have relationships with this table.\n",
    "\n",
    "Foreign Key:\n",
    "a foreign key is a column or set of columns in a table that refers to the primary key of another table. It establishes a link or relationship between two tables. The foreign key column(s) in one table hold values that correspond to the values of the primary key column(s) in another table. This relationship ensures that each value in the foreign key column(s) of one table matches a value in the primary key column(s) of the other table."
   ]
  },
  {
   "cell_type": "markdown",
   "id": "b29b6039-1b81-4174-9e10-4b6318e4e53f",
   "metadata": {},
   "source": [
    "Qus6.Write a python code to connect MySQL to python. Explain the cursor() and execute() method."
   ]
  },
  {
   "cell_type": "raw",
   "id": "781875dc-2525-48b8-9908-24df88efcda8",
   "metadata": {},
   "source": [
    "import mysql.connector\n",
    "mydb = mysql.connector.connect(\n",
    "  host=\"localhost\",\n",
    "  user=\"abc\",\n",
    "  password=\"password\"\n",
    ")\n",
    "print(mydb)\n",
    "mycursor = mydb.cursor()\n",
    "mycursor.execute(\"SELECT * FROM yourtable\")\n",
    "for x in mycursor:\n",
    "    print(x)"
   ]
  },
  {
   "cell_type": "raw",
   "id": "0b82a426-01b9-45e4-98b9-b3b847fd9e58",
   "metadata": {},
   "source": [
    "1. cursor():The cursor() method is used to create a cursor object that allows us to execute SQL queries and fetch results from the database. The cursor is created by calling the cursor() method on the database connection object. The cursor object is used to execute SQL queries and fetch results.\n",
    "\n",
    "2.execute():The execute() method is used to execute an SQL query. It takes an SQL query string as its argument and returns the result of the query. The result can be retrieved using various methods like fetchall(), fetchone(), etc. The execute() method is called on the cursor object, and it executes the SQL query provided as its argument."
   ]
  },
  {
   "cell_type": "markdown",
   "id": "4b40beb1-77c4-4fcf-8a26-fd624e1815f4",
   "metadata": {},
   "source": [
    "Qus7.Give the order of execution of SQL clauses in an SQL query."
   ]
  },
  {
   "cell_type": "markdown",
   "id": "ff52e3b5-e4d6-434a-856a-d232dd19681e",
   "metadata": {},
   "source": [
    "1. FROM clause: The FROM clause is the first clause to be executed. It specifies the table(s) from which the data will be retrieved.\n",
    "\n",
    "2. WHERE clause: The WHERE clause is executed after the FROM clause. It filters the data based on a specified condition.\n",
    "\n",
    "3. GROUP BY clause: The GROUP BY clause is executed after the WHERE clause. It groups the data based on one or more columns.\n",
    "\n",
    "4. HAVING clause: The HAVING clause is executed after the GROUP BY clause. It filters the grouped data based on a specified condition.\n",
    "\n",
    "5. SELECT clause: The SELECT clause is executed after all the previous clauses. It selects the columns that will be included in the result set.\n",
    "\n",
    "6. ORDER BY clause: The ORDER BY clause is executed after the SELECT clause. It sorts the result set based on one or more columns.\n",
    "\n",
    "7. LIMIT clause: The LIMIT clause is executed after the ORDER BY clause. It limits the number of rows returned by the query."
   ]
  },
  {
   "cell_type": "code",
   "execution_count": null,
   "id": "f5dd4be0-8c8f-41d2-b29d-7eacf4ce07fa",
   "metadata": {},
   "outputs": [],
   "source": []
  }
 ],
 "metadata": {
  "kernelspec": {
   "display_name": "Python 3 (ipykernel)",
   "language": "python",
   "name": "python3"
  },
  "language_info": {
   "codemirror_mode": {
    "name": "ipython",
    "version": 3
   },
   "file_extension": ".py",
   "mimetype": "text/x-python",
   "name": "python",
   "nbconvert_exporter": "python",
   "pygments_lexer": "ipython3",
   "version": "3.10.8"
  }
 },
 "nbformat": 4,
 "nbformat_minor": 5
}
